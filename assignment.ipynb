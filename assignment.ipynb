{
  "nbformat": 4,
  "nbformat_minor": 0,
  "metadata": {
    "colab": {
      "provenance": []
    },
    "kernelspec": {
      "name": "python3",
      "display_name": "Python 3"
    },
    "language_info": {
      "name": "python"
    }
  },
  "cells": [
    {
      "cell_type": "markdown",
      "source": [
        "# Q1 Explain the key features of Python that make it a popular choice for programming ?\n",
        "\n",
        "#solution\n",
        "\n",
        "key features of python are as under:-\n",
        "\n",
        "\n",
        "\n",
        "1.   **Easy to use and learn** :- python has a simple syntax that is easy to    understand and implement which makes it user friendly.\n",
        "\n",
        "2.   **open source**:-python is a open source language.It can be easily freely\n",
        "       modified.\n",
        "\n",
        "3.   **cross platform and obeject oriented**:-python uses the concept of class  \n",
        "       and which reduces the code useability and modularity in the programming.It is also cross platform which means it can be executed on any platform.\n",
        "4.   **vast library support**:-python has a very large set of libraries which\n",
        "       makes the python more popular and useable in the fields of AI and machine\n",
        "       learning\n",
        "5.   **large community support**:-python has a active community of the coders\n",
        "       which provides regular updates and new features in the language which makes it more popular among the users.\n",
        "\n",
        "\n",
        "\n",
        "\n",
        "\n",
        "\n",
        "\n",
        "\n",
        "\n"
      ],
      "metadata": {
        "id": "09yQdjJ0Ga_j"
      }
    },
    {
      "cell_type": "code",
      "source": [
        "# Q2 Describe the role of predefined keywords in Python and provide examples of how they are used in a program ?\n",
        "\n",
        "# solution:-\n",
        "\n",
        "## predefined keywords are reserved words in the language which has specific meaning for the interpreter so that interpreter can eaily understand them.\n",
        "\n",
        "### examples in the program\n",
        "\n",
        "a=10\n",
        "b=20\n",
        "if a<b:\n",
        "  print(\"b is greater\")\n",
        "else:\n",
        "  print(\"a is greater\")\n",
        "\n",
        "# second example\n",
        "for i in range(0,10):\n",
        "  print(\"hello\")\n",
        "  break;\n",
        "\n",
        "#third example\n",
        "for i in range(0,10):\n",
        "  print(\"hello\")\n",
        "  continue;\n",
        "\n",
        "#fourth example\n",
        "for i in range(0,10):\n",
        "  print(\"hello\")\n",
        "  pass ;\n",
        "\n",
        "\n",
        "\n"
      ],
      "metadata": {
        "colab": {
          "base_uri": "https://localhost:8080/"
        },
        "id": "LJYAznRwVpko",
        "outputId": "2812f648-77a2-4c47-e240-93bb622d52d1"
      },
      "execution_count": 2,
      "outputs": [
        {
          "output_type": "stream",
          "name": "stdout",
          "text": [
            "b is greater\n"
          ]
        }
      ]
    },
    {
      "cell_type": "code",
      "source": [
        "# Q3 Compare and contrast mutable and immutable objects in Python with examples ?\n",
        "# solution:-\n",
        "\n",
        "## mutable objects are those objects in python which can be manipulated after creation like tupule\n",
        "## immutable  objects are those objects in python which cannot be  manipulated or changed after creation like list , dictionary etc.\n",
        "\n",
        "### examples in the program for immutable object here in this example tupule\n",
        "tup = (0, 1, 2, 3)\n",
        "tup[1] = 5\n",
        "print(tup)\n",
        "### examples in the program for mutable object here in this example list\n",
        "l1 = [1, 2, 3]\n",
        "l1.append(4)\n",
        "print(l1)\n"
      ],
      "metadata": {
        "id": "vm0b1Q1nZWSW"
      },
      "execution_count": null,
      "outputs": []
    },
    {
      "cell_type": "code",
      "source": [
        "#  Q4 Discuss the different types of operators in Python and provide examples of how they are used ?\n",
        "\n",
        "# solution:-\n",
        "\n",
        "## there are 5 types of basic operators in python :-\n",
        "## Arithmetic Operators\n",
        "## Comparison (Relational) Operators\n",
        "## Assignment Operators\n",
        "## Logical Operators\n",
        "## Bitwise Operators\n",
        "## Membership Operators\n",
        "\n",
        "## examples :\n",
        "a = 21\n",
        "b = 10\n",
        "c = 0\n",
        "\n",
        "c = a + b\n",
        "print(c)\n",
        "\n",
        "# second example\n",
        "a = 21\n",
        "b = 10\n",
        "if ( a == b ):\n",
        "  print(\"true\")\n",
        "else:\n",
        "  print(\"false\")\n",
        "\n",
        "  # third example\n",
        "  a=10\n",
        "b=20\n",
        "if a<b:\n",
        "  print(\"b is greater\")\n",
        "else:\n",
        "  print(\"a is greater\")\n",
        "\n"
      ],
      "metadata": {
        "id": "VX7sIGtia6WG"
      },
      "execution_count": null,
      "outputs": []
    },
    {
      "cell_type": "code",
      "source": [
        "# Q5  Explain the concept of type casting in Python with examples?\n",
        "\n",
        "# solution :-\n",
        "\n",
        "## type casting is the process of converting one data type into anotherfor example decimal to float.\n",
        "## it is of 2 types implicit and explicit\n",
        "\n",
        "\n",
        "## for example:\n",
        "\n",
        "a=10\n",
        "b=3.0\n",
        "print(type(a))\n",
        "c=float(a)\n",
        "print(type(c))\n",
        "\n",
        "## types shows data type\n",
        "## int converted to float\n",
        "\n"
      ],
      "metadata": {
        "id": "ryYudFIJcZHk"
      },
      "execution_count": null,
      "outputs": []
    },
    {
      "cell_type": "code",
      "source": [
        "# Q6  How do conditional statements work in Python? Illustrate with examples?\n",
        "\n",
        "# solution :-\n",
        "\n",
        "## we use conditional statements when we want to execute a bloxk of code on the basis of given condition true or false.is the condition is true if part execute otherwise else will we can also check multiple conditions using elif\n",
        "\n",
        "## for example:\n",
        "a=10\n",
        "b=20\n",
        "if a<b:\n",
        "  print(\"b is greater\")\n",
        "elif(a==b):\n",
        "  print(\"both are equal\")\n",
        "else:\n",
        "  print(\"a is greater\")\n",
        "\n"
      ],
      "metadata": {
        "id": "TD-yScR2dq6B"
      },
      "execution_count": null,
      "outputs": []
    },
    {
      "cell_type": "code",
      "source": [
        "# Q7 Describe the different types of loops in Python and their use cases with examples.\n",
        "\n",
        "# solution :-\n",
        "## there are two types of loops in python\n",
        "\n",
        "## for loop :- For loops are used for sequential traversal\n",
        "\n",
        "## while loop :- a while loop is used to execute a block of statements repeatedly until a given condition is satisfied when it fails loop breaks\n",
        "\n",
        "\n",
        "# for example:-\n",
        "\n",
        "#for loop\n",
        "\n",
        "for i in range(0,10):\n",
        "  print(i)\n",
        "\n",
        "# while loop\n",
        "\n",
        "a=10\n",
        "while a>0:\n",
        "  print(\"executing\")\n",
        "  a=a-1\n",
        "\n"
      ],
      "metadata": {
        "id": "u7wFFKYUev2m"
      },
      "execution_count": null,
      "outputs": []
    }
  ]
}